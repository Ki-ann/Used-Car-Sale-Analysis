{
 "cells": [
  {
   "cell_type": "markdown",
   "metadata": {
    "cell_id": "088233d1-36b7-4504-8c92-092dfbb8d4ed",
    "deepnote_cell_height": 142.8000030517578,
    "deepnote_cell_type": "markdown",
    "tags": []
   },
   "source": [
    "# Conclusions\n",
    "\n",
    "**Aim:**  \n",
    "In this notebook we aim to summarise what we have learnt and done in this project"
   ]
  },
  {
   "cell_type": "markdown",
   "metadata": {
    "cell_id": "3945eba66c7f458e921fb36e39f83dbb",
    "deepnote_cell_height": 262.3999938964844,
    "deepnote_cell_type": "markdown",
    "tags": []
   },
   "source": [
    "## Exploratory question\n",
    "**Main problem:** How different variables such as [odometer, year, condition, fuel, title_status, transmission, drive, state, brand] affect the resale price of a car.\n",
    "\n",
    "\n",
    "**Subproblem 1**: How does different models (Tree regressor, linear regression, tree classifier) repond to the variables.  \n",
    "\n",
    "**Subproblem 2**: Does applying feature engineering to the dataset change the way the model respond (Tree regressor, linear regression, tree classifier) to the dataest.  \n",
    "\n",
    "**Subproblem 3**: Is there a better model (XGBoost) we can use to better predict the price of the car."
   ]
  },
  {
   "cell_type": "markdown",
   "metadata": {
    "cell_id": "fc78105e98794c599f4105ca6928c58d",
    "deepnote_cell_height": 167.1999969482422,
    "deepnote_cell_type": "markdown",
    "tags": []
   },
   "source": [
    "## Subproblem 1 \n",
    "How does different models (Tree regressor, linear regression, tree classifier) repond to the variables.  \n",
    "\n",
    "Ans: Overall we have seen different models placed different weightage on the feature importance, hinting that for differnet models there could be unique sets of variables we can consider."
   ]
  },
  {
   "cell_type": "markdown",
   "metadata": {
    "cell_id": "ac6610412b384468bf46f19aaf2f74e6",
    "deepnote_cell_height": 212,
    "deepnote_cell_type": "markdown",
    "tags": []
   },
   "source": [
    "## Subproblem 2\n",
    "\n",
    "Does applying feature engineering to the dataset change the way the model respond (Tree regressor, linear regression, tree classifier) to the dataest.  \n",
    "\n",
    "Ans: The models did respond differently, particularly with a better goodness of fit. (More core analysis can be found in [notebook 2]()). We would like to note that feature engineering can be helpful in creating new variables that allow for better prediction of the resale price of the car."
   ]
  },
  {
   "cell_type": "markdown",
   "metadata": {
    "cell_id": "91f195d4ffcf41218126f06307b7dc38",
    "deepnote_cell_height": 189.60000610351562,
    "deepnote_cell_type": "markdown",
    "owner_user_id": "",
    "tags": []
   },
   "source": [
    "## Subproblem 3\n",
    "\n",
    "Is there a better model (XGBoost) we can use to better predict the price of the car.\n",
    "\n",
    "Ans: There are many other models out there and we have shown that XGboost is one of the model that gives us a better prediction on the resale price of the car. What we would like to note is that no deep learning was used and employing such techniques could result in a better prediction"
   ]
  },
  {
   "cell_type": "markdown",
   "metadata": {
    "cell_id": "6b3b1febdfb548769aac24d095778598",
    "deepnote_cell_height": 383.5,
    "deepnote_cell_type": "markdown",
    "tags": []
   },
   "source": [
    "## Main problem\n",
    "\n",
    "How different variables such as [odometer, year, condition, fuel, title_status, transmission, drive, state, brand] affect the resale price of a car.\n",
    "\n",
    "Ans: \n",
    "- Through solving each subproblem, we have shown how these predictors and response variables are correlated and how different models can affect the accuracy of the prediction. In general, we find that a more complex model, while more computationally costly, can give us better results for the same set of variables compared to a simple model.\n",
    "\n",
    "- [odometer, state, year, manufacturer] remains as one of the few variables with high feature importance throughout the different models, indicating that these are strong predictors\n",
    "    - having lower odometer, or mileage on car usually guarantee higher resale price\n",
    "\n",
    "- XGboost model is able to predict the resale price of a car, allowing a seller to price his car at a competitive  rate\n"
   ]
  },
  {
   "cell_type": "markdown",
   "metadata": {
    "cell_id": "0898fd7be4b44cb0b3b6bfc73327c90f",
    "deepnote_cell_height": 268.79998779296875,
    "deepnote_cell_type": "markdown",
    "tags": []
   },
   "source": [
    "## Learing points\n",
    "\n",
    "- using python packages such as sweetviz to generate reports\n",
    "\n",
    "- variety of ways we can display and analyse the same information\n",
    "\n",
    "- Linear regression may not be the best model to use since it predicts negative price values. Other models will prove to be better rather than trying to force fit a regression model to solve the problem\n",
    "\n",
    "- We have seen that using price as categorical response yielded higher explained variance for the regessor models. This indicates lower residual sum of square, implying better model fit.\n",
    "\n",
    "- A more complex model can give us a higher F1 score for the same set of variables\n"
   ]
  },
  {
   "cell_type": "markdown",
   "metadata": {
    "cell_id": "c74731cce3f04a8996dbcbcab77ab888",
    "deepnote_cell_height": 142.8000030517578,
    "deepnote_cell_type": "markdown",
    "tags": []
   },
   "source": [
    "# End of conclusion\n",
    "\n",
    "We would like to thank you for reading through the notebooks and we hope that you have gained some new insights into the car resale industry and how you can sell your car at a better price."
   ]
  }
 ],
 "metadata": {
  "deepnote": {},
  "deepnote_execution_queue": [],
  "deepnote_notebook_id": "5d8131a5-4d36-4cbb-aebd-6231aed8d018",
  "kernelspec": {
   "display_name": "",
   "name": ""
  },
  "language_info": {
   "name": ""
  }
 },
 "nbformat": 4,
 "nbformat_minor": 4
}
